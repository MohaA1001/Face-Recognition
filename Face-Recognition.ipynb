{
 "cells": [
  {
   "cell_type": "code",
   "metadata": {},
   "source": [
    "import json\n",
    "from google.colab import files\n",
    "\n",
    "class MissingPersonDatabase:\n",
    "    def __init__(self):\n",
    "        self.database = {}\n",
    "\n",
    "    def add_person(self, name, current_photo, childhood_photo, info):\n",
    "        self.database[name] = {'current_photo': current_photo,\n",
    "                               'childhood_photo': childhood_photo,\n",
    "                               'info': info}\n",
    "        self.save_to_file()\n",
    "\n",
    "    def save_to_file(self, filename='missing_person_database.json'):\n",
    "        with open(filename, 'w') as file:\n",
    "            json.dump(self.database, file, indent=4)\n",
    "\n",
    "# Create an instance of the MissingPersonDatabase\n",
    "database = MissingPersonDatabase()\n",
    "\n",
    "# Function to handle adding a missing person\n",
    "def add_missing_person():\n",
    "    name = input(\"Enter person's name: \")\n",
    "    current_photo = files.upload()\n",
    "    childhood_photo = files.upload()\n",
    "    age = input(\"Enter person's age: \")\n",
    "    contact = input(\"Enter person's contact information: \")\n",
    "    info = {'age': age, 'contact': contact}\n",
    "    database.add_person(name, list(current_photo.keys())[0], list(childhood_photo.keys())[0], info)\n",
    "\n",
    "# Function to add multiple missing persons\n",
    "def add_multiple_missing_persons():\n",
    "    add_more = True\n",
    "    while add_more:\n",
    "        add_missing_person()\n",
    "        choice = input(\"Do you want to add another missing person? (yes/no): \").lower()\n",
    "        if choice != 'yes':\n",
    "            add_more = False\n",
    "\n",
    "# Add missing persons to the database\n",
    "add_multiple_missing_persons()\n"
   ],
   "outputs": []
  }
 ],
 "metadata": {
  "kernelspec": {
   "display_name": "Python 3",
   "language": "python",
   "name": "python3"
  },
  "language_info": {
   "codemirror_mode": {
    "name": "ipython",
    "version": 3
   },
   "file_extension": ".py",
   "mimetype": "text/x-python",
   "name": "python",
   "nbconvert_exporter": "python",
   "pygments_lexer": "ipython3",
   "version": "3.8.10"
  }
 },
 "nbformat": 4,
 "nbformat_minor": 5
}
